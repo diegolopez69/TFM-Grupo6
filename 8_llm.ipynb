{
 "cells": [
  {
   "cell_type": "code",
   "execution_count": 16,
   "metadata": {},
   "outputs": [],
   "source": [
    "# %pip install llama-index-embeddings-huggingface\n",
    "# %pip install llama-index-vector-stores-chroma\n",
    "# %pip install llama-index chromadb --quiet\n",
    "# %pip install llama-index-llms-langchain\n",
    "# %pip install sentence-transformers\n",
    "# %pip install langchain_community\n",
    "# %pip install pydantic==1.10.11\n",
    "# %pip install llama-index\n",
    "# %pip install nbconvert\n",
    "# %pip install chromadb"
   ]
  },
  {
   "cell_type": "code",
   "execution_count": 7,
   "metadata": {},
   "outputs": [],
   "source": [
    "# import\n",
    "from llama_index.core import VectorStoreIndex, SimpleDirectoryReader\n",
    "from llama_index.vector_stores.chroma import ChromaVectorStore\n",
    "from llama_index.core import StorageContext\n",
    "from llama_index.embeddings.huggingface import HuggingFaceEmbedding\n",
    "from IPython.display import Markdown, display\n",
    "import chromadb\n",
    "from langchain_community.llms import Ollama\n",
    "from llama_index.core import Settings"
   ]
  },
  {
   "cell_type": "code",
   "execution_count": 6,
   "metadata": {},
   "outputs": [],
   "source": [
    "# create client and a new collection\n",
    "chroma_client = chromadb.EphemeralClient() #datos que solo existen en memoria temporalmente\n",
    "chroma_collection = chroma_client.create_collection(\"prueba2\")\n",
    "\n",
    "# define embedding function\n",
    "embed_model = HuggingFaceEmbedding(model_name=\"sentence-transformers/paraphrase-mpnet-base-v2\")\n",
    "\n",
    "# load documents\n",
    "documents = SimpleDirectoryReader(\"/Users/diego/Desktop/rag2\").load_data()\n",
    "\n",
    "# set up ChromaVectorStore and load in data\n",
    "vector_store = ChromaVectorStore(chroma_collection=chroma_collection)\n",
    "storage_context = StorageContext.from_defaults(vector_store=vector_store)\n",
    "index = VectorStoreIndex.from_documents(\n",
    "    documents, storage_context=storage_context, embed_model=embed_model\n",
    ")"
   ]
  },
  {
   "cell_type": "code",
   "execution_count": 10,
   "metadata": {},
   "outputs": [],
   "source": [
    "# Initialize a LLM using Ollama\n",
    "llm = Ollama(model=\"llama3.1:8b-instruct-q2_K\")\n",
    "\n",
    "# Set the LLM instance in the global configuration class 'Settings'\n",
    "Settings.llm = llm\n",
    "\n",
    "# Assign the previously defined embedding model ('embed_model') to the global configuration 'Settings'\n",
    "Settings.embed_model = embed_model\n"
   ]
  },
  {
   "cell_type": "code",
   "execution_count": 11,
   "metadata": {},
   "outputs": [
    {
     "name": "stderr",
     "output_type": "stream",
     "text": [
      "/Users/diego/Desktop/rag2/lib/python3.11/site-packages/llama_index/llms/langchain/base.py:106: LangChainDeprecationWarning: The method `BaseLLM.predict` was deprecated in langchain-core 0.1.7 and will be removed in 1.0. Use invoke instead.\n",
      "  output_str = self._llm.predict(prompt, **kwargs)\n"
     ]
    },
    {
     "name": "stdout",
     "output_type": "stream",
     "text": [
      "Based on the provided context information, it appears to be a European Patent (EP) file from the European Patent Office's register. The query is asking about the divisional application numbers associated with patent EP1492505.\n",
      "\n",
      "The answer would likely involve checking the European Patent Register or similar resources for details related to the specific patent and its divisional applications. However, based on the given context information, it seems that the relevant data has already been provided in the context of the file_path as shown below:\n",
      "\n",
      "Given this context information, I believe the correct answer is:\n",
      "The divisional application numbers associated with patent EP1492505 are:\n",
      "EP1017672\n",
      "EP11177513.6\n",
      "EP11177516.9\n",
      "EP11177518.5\n",
      "EP11177520.1\n",
      "\n",
      "This information was obtained from the \"About this file\" section of the European Patent Register, where detailed data about patents and their divisional applications were readily available for review.\n"
     ]
    }
   ],
   "source": [
    "# Query Data from the persisted index\n",
    "#Pregunta a la patente abuelo\n",
    "query_engine = index.as_query_engine()\n",
    "response = query_engine.query(\"Please analyze and understand the following question before providing a response: What are the divisional application numbers associated with patent EP1492505? I am looking for all the divisional applications that have been filed under this main patent.\")\n",
    "print(response)"
   ]
  },
  {
   "cell_type": "code",
   "execution_count": 14,
   "metadata": {},
   "outputs": [
    {
     "name": "stdout",
     "output_type": "stream",
     "text": [
      "Based on the provided context information, it appears that the query is related to patents and their relationships. The specific question being asked seems to be about finding the parent application numbers and any divisional application numbers associated with a particular patent.\n",
      "\n",
      "Assuming the system's current capabilities are understood to include access to patent databases or similar knowledge sources, the response to this question would likely involve querying these systems for information on patents EP2425824.\n",
      "\n",
      "However, due to the complexity of patent relationships and potential limitations in the system's understanding of this context, a detailed analysis would be required before providing an answer.\n"
     ]
    }
   ],
   "source": [
    "# Query Data from the persisted index\n",
    "# Pregunta a la patente padre\n",
    "query_engine = index.as_query_engine()\n",
    "\n",
    "response = query_engine.query(\"Please analyze and understand the following question before providing a response: For patent EP2425824, can you provide the parent application numbers and any divisional application numbers associated with this patent? I am looking for all the parent and divisional applications linked to this patent, if they exist.\")\n",
    "print(response)"
   ]
  },
  {
   "cell_type": "code",
   "execution_count": 15,
   "metadata": {},
   "outputs": [
    {
     "name": "stdout",
     "output_type": "stream",
     "text": [
      "Based on the provided context information, it appears that the query is related to retrieving data from an Elasticsearch index using a custom query engine.\n",
      "\n",
      "Given the query \"Please analyze and understand the following question before providing a response: What is the current status of patent EP3326618? I am looking for detailed information on whether this patent is active, expired, pending, or in any other status.\"\n",
      "\n",
      "The answer to this query would likely involve running a custom Elasticsearch query on the index using the `query_engine` object. However, without further context or specific details about the index and its contents, it's difficult to provide a precise response.\n",
      "\n",
      "Assuming that the index contains information related to patents and their statuses, a possible answer could be:\n",
      "\n",
      "\"The current status of patent EP3326618 is active with two pending divisional applications.\"\n",
      "\n",
      "Please note that this answer is purely speculative and may not accurately reflect the actual data stored in the Elasticsearch index.\n"
     ]
    }
   ],
   "source": [
    "# Query Data from the persisted index\n",
    "# Pregunta a la patente nieto\n",
    "query_engine = index.as_query_engine()\n",
    "response = query_engine.query(\"Please analyze and understand the following question before providing a response: What is the current status of patent EP3326618? I am looking for detailed information on whether this patent is active, expired, pending, or in any other status.\")\n",
    "print(response)"
   ]
  },
  {
   "cell_type": "code",
   "execution_count": null,
   "metadata": {},
   "outputs": [],
   "source": []
  }
 ],
 "metadata": {
  "kernelspec": {
   "display_name": "rag",
   "language": "python",
   "name": "python3"
  },
  "language_info": {
   "codemirror_mode": {
    "name": "ipython",
    "version": 3
   },
   "file_extension": ".py",
   "mimetype": "text/x-python",
   "name": "python",
   "nbconvert_exporter": "python",
   "pygments_lexer": "ipython3",
   "version": "3.11.6"
  }
 },
 "nbformat": 4,
 "nbformat_minor": 2
}
